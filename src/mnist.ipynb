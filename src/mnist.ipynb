{
 "cells": [
  {
   "cell_type": "markdown",
   "metadata": {},
   "source": [
    "MNIST Tensorflow\n",
    "=============\n",
    "\n",
    "This is my own study project for MNIST dataset with TensorFlow<br>\n",
    "GitHub repository : [https://github.com/neungkl/mnist-tensorflow](https://github.com/neungkl/mnist-tensorflow)\n",
    "\n",
    "This notebook uses MNIST dataset from [Kaggle](https://www.kaggle.com/c/digit-recognizer/overview) for this experiment."
   ]
  },
  {
   "cell_type": "code",
   "execution_count": 59,
   "metadata": {
    "collapsed": true
   },
   "outputs": [],
   "source": [
    "import os\n",
    "import json\n",
    "import requests\n",
    "import numpy as np\n",
    "from numpy import genfromtxt\n",
    "from six.moves import cPickle as pickle\n",
    "\n",
    "import matplotlib.pyplot as plt\n",
    "\n",
    "root_path = \".\""
   ]
  },
  {
   "cell_type": "markdown",
   "metadata": {},
   "source": [
    "Please download the dataset from [http://www.kaggle.com/c/digit-recognizer/](http://www.kaggle.com/c/digit-recognizer/) and put on `src/data` folder"
   ]
  },
  {
   "cell_type": "code",
   "execution_count": 39,
   "metadata": {},
   "outputs": [
    {
     "name": "stdout",
     "output_type": "stream",
     "text": [
      "./data/train.csv.cache already present - Skipping caching.\n",
      "./data/test.csv.cache already present - Skipping caching.\n"
     ]
    }
   ],
   "source": [
    "def load_data(filename, cache=True):\n",
    "  data = ''\n",
    "  dest_filename = os.path.join(root_path, 'data', filename)\n",
    "  cache_filename = os.path.join(root_path, 'data', filename + '.cache')\n",
    "    \n",
    "  if not os.path.exists(dest_filename):\n",
    "    print('Please download ' + filename + ' and put on src/data folder')\n",
    "    url = \"http://www.kaggle.com/c/digit-recognizer/download/\"\n",
    "    print(url + filename)\n",
    "    return None\n",
    "  else:\n",
    "    if os.path.exists(cache_filename) and cache:\n",
    "      print('%s already present - Skipping caching.' % cache_filename)\n",
    "      return cache_filename\n",
    "    else:\n",
    "      print('Cache %s' % cache_filename)\n",
    "      dataset = genfromtxt(dest_filename, delimiter=\",\")\n",
    "      try:\n",
    "        with open(cache_filename, 'wb') as f:\n",
    "          pickle.dump(dataset, f, pickle.HIGHEST_PROTOCOL)\n",
    "        return cache_filename\n",
    "      except Exception as e:\n",
    "        print('Unable to save data to', cache_filename, ':', e)\n",
    "        return None\n",
    "\n",
    "train_csv = load_data('train.csv')\n",
    "test_csv = load_data('test.csv')"
   ]
  },
  {
   "cell_type": "code",
   "execution_count": 57,
   "metadata": {},
   "outputs": [
    {
     "name": "stdout",
     "output_type": "stream",
     "text": [
      "Load data complete\n"
     ]
    }
   ],
   "source": [
    "train_datasets = []\n",
    "train_labels = []\n",
    "validate_datasets = []\n",
    "validate_labels = []\n",
    "test_datasets = []\n",
    "complete_load_data = False\n",
    "\n",
    "def randomize(dataset, labels):\n",
    "  permutation = np.random.permutation(labels.shape[0])\n",
    "  shuffled_dataset = dataset[permutation,:]\n",
    "  shuffled_labels = labels[permutation]\n",
    "  return shuffled_dataset, shuffled_labels\n",
    "\n",
    "if train_csv != None and test_csv != None:\n",
    "  with open(train_csv, 'rb') as f:\n",
    "    data = pickle.load(f)\n",
    "    datasets = data[1:,1:]\n",
    "    labels = data[1:,0]\n",
    "    datasets, labels = randomize(datasets, labels)\n",
    "    \n",
    "    train_size = (int) (datasets.shape[0] * 0.7)\n",
    "    \n",
    "    train_datasets = datasets[0:train_size]\n",
    "    train_labels = labels[0:train_size]\n",
    "    \n",
    "    validate_datasets = datasets[train_size:]\n",
    "    validate_labels = labels[train_size:]\n",
    "    \n",
    "  with open(test_csv, 'rb') as f:\n",
    "    data = pickle.load(f)\n",
    "    test_datasets = data[1:]\n",
    "  complete_load_data = True\n",
    "  print('Load data complete')\n",
    "else:\n",
    "  print('Something wrong with loading file. Please try again.')"
   ]
  },
  {
   "cell_type": "markdown",
   "metadata": {},
   "source": [
    "Preview the data to make sure that dataset is correct."
   ]
  },
  {
   "cell_type": "code",
   "execution_count": 73,
   "metadata": {},
   "outputs": [
    {
     "data": {
      "image/png": "[encoded data removed]",
      "text/plain": [
       "<matplotlib.figure.Figure at 0x7f1d054cac50>"
      ]
     },
     "metadata": {},
     "output_type": "display_data"
    },
    {
     "data": {
      "image/png": "[encoded data removed]",
      "text/plain": [
       "<matplotlib.figure.Figure at 0x7f1d05030b50>"
      ]
     },
     "metadata": {},
     "output_type": "display_data"
    },
    {
     "data": {
      "image/png": "[encoded data removed]",
      "text/plain": [
       "<matplotlib.figure.Figure at 0x7f1d04fe8a10>"
      ]
     },
     "metadata": {},
     "output_type": "display_data"
    }
   ],
   "source": [
    "def preview_number(index):\n",
    "  number = train_datasets[index].reshape(28, 28)\n",
    "  plt.figure()\n",
    "  plt.imshow(number)\n",
    "  plt.title(train_labels[index])\n",
    "  \n",
    "for i in xrange(0,3):\n",
    "  preview_number(i)"
   ]
  }
 ],
 "metadata": {
  "kernelspec": {
   "display_name": "Python 2",
   "language": "python",
   "name": "python2"
  },
  "language_info": {
   "codemirror_mode": {
    "name": "ipython",
    "version": 2
   },
   "file_extension": ".py",
   "mimetype": "text/x-python",
   "name": "python",
   "nbconvert_exporter": "python",
   "pygments_lexer": "ipython2",
   "version": "2.7.13"
  }
 },
 "nbformat": 4,
 "nbformat_minor": 2
}
