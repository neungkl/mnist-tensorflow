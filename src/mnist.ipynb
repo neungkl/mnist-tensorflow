{
 "cells": [
  {
   "cell_type": "markdown",
   "metadata": {},
   "source": [
    "MNIST Tensorflow\n",
    "=============\n",
    "\n",
    "This is my own study project for MNIST dataset with TensorFlow<br>\n",
    "GitHub repository : [https://github.com/neungkl/mnist-tensorflow](https://github.com/neungkl/mnist-tensorflow)\n",
    "\n",
    "This notebook uses MNIST dataset from [Kaggle](https://www.kaggle.com/c/digit-recognizer/overview) for this experiment."
   ]
  },
  {
   "cell_type": "code",
   "execution_count": 47,
   "metadata": {
    "collapsed": true
   },
   "outputs": [],
   "source": [
    "import os\n",
    "import json\n",
    "import requests\n",
    "\n",
    "root_path = \".\""
   ]
  },
  {
   "cell_type": "markdown",
   "metadata": {},
   "source": [
    "Please download the dataset from [http://www.kaggle.com/c/digit-recognizer/](http://www.kaggle.com/c/digit-recognizer/) and put on `src/data` folder"
   ]
  },
  {
   "cell_type": "code",
   "execution_count": null,
   "metadata": {},
   "outputs": [],
   "source": [
    "def download(filename):\n",
    "    data = ''\n",
    "    dest_filename = os.path.join(root_path, 'data', filename)\n",
    "    \n",
    "    if not os.path.exists(dest_filename):\n",
    "        print('Please download ' + filename + ' and put on src/data folder')\n",
    "        url = \"http://www.kaggle.com/c/digit-recognizer/download/\"\n",
    "        print(url + filename)\n",
    "    else:\n",
    "        print('Load ' + filename + ' data')\n",
    "        f = open(dest_filename, 'r')\n",
    "        data = f.read()\n",
    "        f.close()\n",
    "    \n",
    "    return data\n",
    "\n",
    "train_csv = download('train.csv')\n",
    "test_csv = download('test.csv')"
   ]
  }
 ],
 "metadata": {
  "kernelspec": {
   "display_name": "Python 2",
   "language": "python",
   "name": "python2"
  },
  "language_info": {
   "codemirror_mode": {
    "name": "ipython",
    "version": 2
   },
   "file_extension": ".py",
   "mimetype": "text/x-python",
   "name": "python",
   "nbconvert_exporter": "python",
   "pygments_lexer": "ipython2",
   "version": "2.7.13"
  }
 },
 "nbformat": 4,
 "nbformat_minor": 2
}
