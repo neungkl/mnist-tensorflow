{
 "cells": [
  {
   "cell_type": "markdown",
   "metadata": {},
   "source": [
    "MNIST Tensorflow\n",
    "=============\n",
    "\n",
    "This is my own study project for MNIST dataset with TensorFlow<br>\n",
    "GitHub repository : [https://github.com/neungkl/mnist-tensorflow](https://github.com/neungkl/mnist-tensorflow)\n",
    "\n",
    "This notebook uses MNIST dataset from [Kaggle](https://www.kaggle.com/c/digit-recognizer/overview) for this experiment."
   ]
  },
  {
   "cell_type": "code",
   "execution_count": 1,
   "metadata": {
    "collapsed": true
   },
   "outputs": [],
   "source": [
    "import os\n",
    "import numpy as np\n",
    "from numpy import genfromtxt\n",
    "from six.moves import cPickle as pickle\n",
    "\n",
    "import matplotlib.pyplot as plt\n",
    "import tensorflow as tf\n",
    "\n",
    "root_path = \".\""
   ]
  },
  {
   "cell_type": "markdown",
   "metadata": {},
   "source": [
    "### Instruction\n",
    "Please download the dataset from [http://www.kaggle.com/c/digit-recognizer/](http://www.kaggle.com/c/digit-recognizer/) and put on `src/data` folder"
   ]
  },
  {
   "cell_type": "code",
   "execution_count": 2,
   "metadata": {},
   "outputs": [
    {
     "name": "stdout",
     "output_type": "stream",
     "text": [
      "./data/train.csv.cache already present - Skipping caching.\n",
      "./data/test.csv.cache already present - Skipping caching.\n"
     ]
    }
   ],
   "source": [
    "def load_data(filename, cache=True):\n",
    "  data = ''\n",
    "  dest_filename = os.path.join(root_path, 'data', filename)\n",
    "  cache_filename = os.path.join(root_path, 'data', filename + '.cache')\n",
    "    \n",
    "  if not os.path.exists(dest_filename):\n",
    "    print('Please download ' + filename + ' and put on src/data folder')\n",
    "    url = \"http://www.kaggle.com/c/digit-recognizer/download/\"\n",
    "    print(url + filename)\n",
    "    return None\n",
    "  else:\n",
    "    if os.path.exists(cache_filename) and cache:\n",
    "      print('%s already present - Skipping caching.' % cache_filename)\n",
    "      return cache_filename\n",
    "    else:\n",
    "      print('Cache %s' % cache_filename)\n",
    "      dataset = genfromtxt(dest_filename, delimiter=\",\")\n",
    "      try:\n",
    "        with open(cache_filename, 'wb') as f:\n",
    "          pickle.dump(dataset, f, pickle.HIGHEST_PROTOCOL)\n",
    "        return cache_filename\n",
    "      except Exception as e:\n",
    "        print('Unable to save data to', cache_filename, ':', e)\n",
    "        return None\n",
    "\n",
    "train_csv = load_data('train.csv')\n",
    "test_csv = load_data('test.csv')"
   ]
  },
  {
   "cell_type": "code",
   "execution_count": 3,
   "metadata": {},
   "outputs": [
    {
     "name": "stdout",
     "output_type": "stream",
     "text": [
      "Load data complete\n"
     ]
    }
   ],
   "source": [
    "train_dataset = []\n",
    "train_labels = []\n",
    "validate_dataset = []\n",
    "validate_labels = []\n",
    "test_dataset = []\n",
    "complete_load_data = False\n",
    "\n",
    "def randomize(dataset, labels):\n",
    "  permutation = np.random.permutation(labels.shape[0])\n",
    "  shuffled_dataset = dataset[permutation,:]\n",
    "  shuffled_labels = labels[permutation]\n",
    "  return shuffled_dataset, shuffled_labels\n",
    "\n",
    "if train_csv is not None and test_csv is not None:\n",
    "  with open(train_csv, 'rb') as f:\n",
    "    data = pickle.load(f)\n",
    "    dataset = data[1:,1:]\n",
    "    labels = data[1:,0]\n",
    "    dataset, labels = randomize(dataset, labels)\n",
    "    \n",
    "    # train_size = (int) (dataset.shape[0] * 0.7)\n",
    "    validate_size = 5000\n",
    "    \n",
    "    train_dataset = dataset[0:-validate_size]\n",
    "    train_labels = labels[0:-validate_size]\n",
    "    \n",
    "    validate_dataset = dataset[-validate_size:]\n",
    "    validate_labels = labels[-validate_size:]\n",
    "    \n",
    "  with open(test_csv, 'rb') as f:\n",
    "    data = pickle.load(f)\n",
    "    test_dataset = data[1:]\n",
    "  complete_load_data = True\n",
    "  print('Load data complete')\n",
    "else:\n",
    "  print('Something wrong with loading file. Please try again.')"
   ]
  },
  {
   "cell_type": "markdown",
   "metadata": {},
   "source": [
    "Preview the data to make sure that dataset is correct."
   ]
  },
  {
   "cell_type": "code",
   "execution_count": 4,
   "metadata": {
    "scrolled": false
   },
   "outputs": [
    {
     "data": {
      "image/png": "[encoded data removed]",
      "text/plain": [
       "<matplotlib.figure.Figure at 0x7f96644f2d50>"
      ]
     },
     "metadata": {},
     "output_type": "display_data"
    },
    {
     "data": {
      "image/png": "[encoded data removed]",
      "text/plain": [
       "<matplotlib.figure.Figure at 0x7f96985ba250>"
      ]
     },
     "metadata": {},
     "output_type": "display_data"
    },
    {
     "data": {
      "image/png": "[encoded data removed]",
      "text/plain": [
       "<matplotlib.figure.Figure at 0x7f965286cfd0>"
      ]
     },
     "metadata": {},
     "output_type": "display_data"
    }
   ],
   "source": [
    "def preview_number(data, label=None):\n",
    "  number = data.reshape(28, 28)\n",
    "  plt.figure()\n",
    "  plt.imshow(number)\n",
    "  if label is not None:\n",
    "    plt.title(label)\n",
    "  \n",
    "for i in xrange(0,3):\n",
    "  preview_number(train_dataset[i], train_labels[i])"
   ]
  },
  {
   "cell_type": "markdown",
   "metadata": {},
   "source": [
    "### Data Prepossessing\n",
    "Convert labels to one-hot-encoder format"
   ]
  },
  {
   "cell_type": "code",
   "execution_count": 5,
   "metadata": {
    "collapsed": true
   },
   "outputs": [],
   "source": [
    "num_labels = 10"
   ]
  },
  {
   "cell_type": "code",
   "execution_count": 6,
   "metadata": {
    "collapsed": true
   },
   "outputs": [],
   "source": [
    "def one_hot_encoder(labels):\n",
    "  labels.astype(int)\n",
    "  labels = (np.arange(num_labels) == labels[:,None]).astype(np.float32)\n",
    "  return labels\n",
    "\n",
    "train_labels = one_hot_encoder(train_labels)\n",
    "validate_labels = one_hot_encoder(validate_labels)"
   ]
  },
  {
   "cell_type": "markdown",
   "metadata": {},
   "source": [
    "Normalization"
   ]
  },
  {
   "cell_type": "code",
   "execution_count": 7,
   "metadata": {
    "collapsed": true
   },
   "outputs": [],
   "source": [
    "def normalization(data):\n",
    "  return data / 255\n",
    "\n",
    "train_dataset = normalization(train_dataset)\n",
    "validate_dataset = normalization(validate_dataset)\n",
    "test_dataset = normalization(test_dataset)"
   ]
  },
  {
   "cell_type": "markdown",
   "metadata": {},
   "source": [
    "Reshape"
   ]
  },
  {
   "cell_type": "code",
   "execution_count": 8,
   "metadata": {
    "collapsed": true
   },
   "outputs": [],
   "source": [
    "def reshape_input(data):\n",
    "  return data.reshape((-1, 28, 28, 1))\n",
    "\n",
    "train_dataset = reshape_input(train_dataset)\n",
    "validate_dataset = reshape_input(validate_dataset)\n",
    "test_dataset = reshape_input(test_dataset)"
   ]
  },
  {
   "cell_type": "code",
   "execution_count": 9,
   "metadata": {},
   "outputs": [
    {
     "name": "stdout",
     "output_type": "stream",
     "text": [
      "(37000, 28, 28, 1)\n",
      "(37000, 10)\n",
      "(5000, 28, 28, 1)\n",
      "(5000, 10)\n",
      "(28000, 28, 28, 1)\n"
     ]
    }
   ],
   "source": [
    "# Debug shape of data to make sure data is correct format\n",
    "\n",
    "print(train_dataset.shape)\n",
    "print(train_labels.shape)\n",
    "\n",
    "print(validate_dataset.shape)\n",
    "print(validate_labels.shape)\n",
    "\n",
    "print(test_dataset.shape)"
   ]
  },
  {
   "cell_type": "markdown",
   "metadata": {},
   "source": [
    "## Processing (with CNN method)"
   ]
  },
  {
   "cell_type": "markdown",
   "metadata": {},
   "source": [
    "TensorFlow graph initialization"
   ]
  },
  {
   "cell_type": "code",
   "execution_count": 10,
   "metadata": {
    "collapsed": true
   },
   "outputs": [],
   "source": [
    "# Constant\n",
    "\n",
    "patch_size = 5\n",
    "batch_size = 32\n",
    "input_size = 200"
   ]
  },
  {
   "cell_type": "code",
   "execution_count": 11,
   "metadata": {},
   "outputs": [],
   "source": [
    "graph = tf.Graph()\n",
    "\n",
    "with graph.as_default():\n",
    "  \n",
    "  # Input\n",
    "  tf_train_dataset = tf.placeholder(tf.float32, shape=(batch_size, 28, 28, 1))\n",
    "  tf_train_labels = tf.placeholder(tf.float32, shape=(batch_size, num_labels))\n",
    "  tf_input_data = tf.placeholder(tf.float32, shape=(input_size, 28, 28, 1))\n",
    "  keep_prob = tf.placeholder(tf.float32)\n",
    "  \n",
    "  # Variable\n",
    "  def weight_variable(shape):\n",
    "    return tf.Variable(tf.truncated_normal(shape, stddev=0.1))\n",
    "  \n",
    "  def bias_variable(shape):\n",
    "    return tf.Variable(tf.constant(0.1), shape)\n",
    "  \n",
    "  W1 = weight_variable([patch_size, patch_size, 1, 32])\n",
    "  B1 = bias_variable([32])\n",
    "  \n",
    "  W2 = weight_variable([patch_size, patch_size, 32, 64])\n",
    "  B2 = bias_variable([64])\n",
    "  \n",
    "  W3 = weight_variable([7 * 7 * 64, 256])\n",
    "  B3 = bias_variable([256])\n",
    "  \n",
    "  W4 = weight_variable([256, num_labels])\n",
    "  B4 = bias_variable([num_labels])\n",
    "  \n",
    "  # Model\n",
    "  def conv2d(x, W):\n",
    "    return tf.nn.conv2d(x, W, strides=[1, 1, 1, 1], padding='SAME')\n",
    "  \n",
    "  def max_pool_2x2(x):\n",
    "    return tf.nn.max_pool(x, ksize=[1, 2, 2, 1], strides=[1, 2, 2, 1], padding='SAME')\n",
    "  \n",
    "  def model(x):  \n",
    "    h_conv1 = tf.nn.relu(conv2d(x, W1) + B1)\n",
    "    h_pool1 = max_pool_2x2(h_conv1)\n",
    "    \n",
    "    h_conv2 = tf.nn.relu(conv2d(h_pool1, W2) + B2)\n",
    "    h_pool2 = max_pool_2x2(h_conv2)\n",
    "    \n",
    "    h_pool2_flat = tf.reshape(h_pool2, [-1, 7 * 7 * 64])\n",
    "    h_fc1 = tf.nn.relu(tf.matmul(h_pool2_flat, W3) + B3)\n",
    "    \n",
    "    h_fc1_drop = tf.nn.dropout(h_fc1, keep_prob)\n",
    "    \n",
    "    return tf.matmul(h_fc1_drop, W4) + B4\n",
    "  \n",
    "  logits = model(tf_train_dataset)\n",
    "  loss = tf.reduce_mean(\n",
    "    tf.nn.softmax_cross_entropy_with_logits(\n",
    "      labels = tf_train_labels,\n",
    "      logits = logits\n",
    "    )\n",
    "  )\n",
    "  \n",
    "  # Optimizer\n",
    "  optimizer = tf.train.AdamOptimizer(0.001).minimize(loss)\n",
    "  \n",
    "  # Predictions\n",
    "  train_prediction = tf.nn.softmax(logits)\n",
    "  prediction_fn = tf.nn.softmax(model(tf_input_data))"
   ]
  },
  {
   "cell_type": "code",
   "execution_count": 12,
   "metadata": {
    "scrolled": false
   },
   "outputs": [
    {
     "name": "stdout",
     "output_type": "stream",
     "text": [
      "Initialized\n",
      "Step 0: 5.067106\n",
      "Batch accuracy: 18.75%\n",
      "\n",
      "==> Validation accuracy: 13.74% \n",
      "\n",
      "Step 50: 1.016535\n",
      "Batch accuracy: 65.62%\n",
      "Step 100: 0.391606\n",
      "Batch accuracy: 93.75%\n",
      "Step 150: 0.515392\n",
      "Batch accuracy: 84.38%\n",
      "Step 200: 0.141733\n",
      "Batch accuracy: 96.88%\n",
      "\n",
      "==> Validation accuracy: 93.60% \n",
      "\n",
      "Step 250: 0.407947\n",
      "Batch accuracy: 84.38%\n",
      "Step 300: 0.074093\n",
      "Batch accuracy: 96.88%\n",
      "Step 350: 0.079867\n",
      "Batch accuracy: 96.88%\n",
      "Step 400: 0.215813\n",
      "Batch accuracy: 93.75%\n",
      "\n",
      "==> Validation accuracy: 96.12% \n",
      "\n",
      "Step 450: 0.359075\n",
      "Batch accuracy: 90.62%\n",
      "Step 500: 0.189021\n",
      "Batch accuracy: 87.50%\n",
      "Step 550: 0.453445\n",
      "Batch accuracy: 90.62%\n",
      "Step 600: 0.232590\n",
      "Batch accuracy: 93.75%\n",
      "\n",
      "==> Validation accuracy: 97.18% \n",
      "\n",
      "Step 650: 0.109027\n",
      "Batch accuracy: 96.88%\n",
      "Step 700: 0.365131\n",
      "Batch accuracy: 96.88%\n",
      "Step 750: 0.106202\n",
      "Batch accuracy: 96.88%\n",
      "Step 800: 0.190845\n",
      "Batch accuracy: 87.50%\n",
      "\n",
      "==> Validation accuracy: 97.76% \n",
      "\n",
      "Step 850: 0.147894\n",
      "Batch accuracy: 93.75%\n",
      "Step 900: 0.023756\n",
      "Batch accuracy: 100.00%\n",
      "Step 950: 0.012065\n",
      "Batch accuracy: 100.00%\n",
      "Step 1000: 0.124811\n",
      "Batch accuracy: 93.75%\n",
      "\n",
      "==> Validation accuracy: 97.94% \n",
      "\n",
      "Step 1050: 0.150724\n",
      "Batch accuracy: 93.75%\n",
      "Step 1100: 0.058061\n",
      "Batch accuracy: 96.88%\n",
      "Step 1150: 0.125272\n",
      "Batch accuracy: 96.88%\n",
      "Step 1200: 0.069371\n",
      "Batch accuracy: 96.88%\n",
      "\n",
      "==> Validation accuracy: 98.30% \n",
      "\n",
      "Step 1250: 0.016222\n",
      "Batch accuracy: 100.00%\n",
      "Step 1300: 0.210752\n",
      "Batch accuracy: 93.75%\n",
      "Step 1350: 0.017322\n",
      "Batch accuracy: 100.00%\n",
      "Step 1400: 0.104296\n",
      "Batch accuracy: 96.88%\n",
      "\n",
      "==> Validation accuracy: 98.26% \n",
      "\n",
      "Step 1450: 0.092298\n",
      "Batch accuracy: 96.88%\n",
      "Step 1500: 0.295815\n",
      "Batch accuracy: 93.75%\n",
      "Step 1550: 0.120238\n",
      "Batch accuracy: 96.88%\n",
      "Step 1600: 0.266655\n",
      "Batch accuracy: 90.62%\n",
      "\n",
      "==> Validation accuracy: 98.10% \n",
      "\n",
      "Step 1650: 0.001490\n",
      "Batch accuracy: 100.00%\n",
      "Step 1700: 0.015294\n",
      "Batch accuracy: 100.00%\n",
      "Step 1750: 0.012718\n",
      "Batch accuracy: 100.00%\n",
      "Step 1800: 0.018633\n",
      "Batch accuracy: 100.00%\n",
      "\n",
      "==> Validation accuracy: 98.54% \n",
      "\n",
      "Step 1850: 0.006687\n",
      "Batch accuracy: 100.00%\n",
      "Step 1900: 0.037765\n",
      "Batch accuracy: 96.88%\n",
      "Step 1950: 0.032499\n",
      "Batch accuracy: 100.00%\n",
      "Step 2000: 0.007604\n",
      "Batch accuracy: 100.00%\n",
      "\n",
      "==> Validation accuracy: 98.76% \n",
      "\n",
      "\n",
      "Predict test data\n",
      "Finish!!!....\n"
     ]
    }
   ],
   "source": [
    "num_steps = 2001\n",
    "\n",
    "def predict_result(predictions):\n",
    "  return np.argmax(predictions, 1)\n",
    "\n",
    "def accuracy(predictions, labels):\n",
    "  return (100.0 * np.sum(predict_result(predictions) == predict_result(labels))\n",
    "          / predictions.shape[0])\n",
    "\n",
    "def predict_all(input_data):\n",
    "  predict_data = np.array([])\n",
    "  \n",
    "  offset = 0\n",
    "  size = input_data.shape[0]\n",
    "  while offset + input_size <= size:\n",
    "    predictions = session.run(\n",
    "      [prediction_fn],\n",
    "      feed_dict = { \n",
    "        tf_input_data: input_data[offset : (offset + input_size)],\n",
    "        keep_prob: 1.0\n",
    "      }\n",
    "    )\n",
    "    predict_data = np.append(predict_data, predictions[0])\n",
    "    offset += input_size\n",
    "    \n",
    "\n",
    "  return predict_data.reshape((-1, num_labels))\n",
    "  \n",
    "\n",
    "with tf.Session(graph=graph) as session:\n",
    "  tf.global_variables_initializer().run()\n",
    "  print('Initialized')\n",
    "  \n",
    "  for step in xrange(num_steps):\n",
    "    offset = (step * batch_size) % (train_dataset.shape[0] - batch_size)\n",
    "    batch_data = train_dataset[offset : (offset + batch_size)]\n",
    "    batch_labels = train_labels[offset : (offset + batch_size)]\n",
    "    \n",
    "    feed_dict = {\n",
    "      tf_train_dataset: batch_data,\n",
    "      tf_train_labels: batch_labels,\n",
    "      keep_prob: 0.5\n",
    "    }\n",
    "    \n",
    "    _, l, predictions = session.run(\n",
    "      [optimizer, loss, train_prediction],\n",
    "      feed_dict = feed_dict\n",
    "    )\n",
    "    \n",
    "    if (step % 50 == 0):\n",
    "      print('Step %d: %f' % (step, l))\n",
    "      print('Batch accuracy: %.2f%%' % accuracy(predictions, batch_labels))\n",
    "      \n",
    "    if (step % 200 == 0):\n",
    "      validate_prediction = predict_all(validate_dataset)\n",
    "\n",
    "      print('\\n==> Validation accuracy: %.2f%% \\n' % accuracy(\n",
    "        validate_prediction, \n",
    "        validate_labels[0 : validate_prediction.shape[0]]\n",
    "      ))\n",
    "      \n",
    "  print('\\nPredict test data')\n",
    "  \n",
    "  result = np.arange(1, test_dataset.shape[0] + 1).reshape((-1,1))\n",
    "  \n",
    "  test_prediction = predict_result(predict_all(test_dataset)).reshape((-1,1))\n",
    "  result = np.append(result, test_prediction, axis=1).astype(int)\n",
    "  \n",
    "  np.savetxt(\n",
    "    os.path.join(root_path, 'data/prediction.txt'), \n",
    "    result, \n",
    "    delimiter=\",\",\n",
    "    header=\"ImageId,Label\",\n",
    "    fmt='%d',\n",
    "    comments=''\n",
    "  )\n",
    "\n",
    "  print('Finish!!!....')"
   ]
  }
 ],
 "metadata": {
  "kernelspec": {
   "display_name": "Python 2",
   "language": "python",
   "name": "python2"
  },
  "language_info": {
   "codemirror_mode": {
    "name": "ipython",
    "version": 2
   },
   "file_extension": ".py",
   "mimetype": "text/x-python",
   "name": "python",
   "nbconvert_exporter": "python",
   "pygments_lexer": "ipython2",
   "version": "2.7.13"
  }
 },
 "nbformat": 4,
 "nbformat_minor": 2
}
